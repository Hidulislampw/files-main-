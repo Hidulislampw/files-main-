{
  "cells": [
    {
      "cell_type": "code",
      "execution_count": null,
      "metadata": {
        "id": "18Z0K0ELQn7c"
      },
      "outputs": [],
      "source": []
    },
    {
      "cell_type": "markdown",
      "metadata": {
        "id": "HTnMcyN-Qyrt"
      },
      "source": [
        "Theory Questions"
      ]
    },
    {
      "cell_type": "markdown",
      "metadata": {
        "id": "iFXld4INQ205"
      },
      "source": [
        "1. What is the difference between interpreted and compiled languages\n",
        "Ans 1. The primary difference between interpreted and compiled languages lies in how the code is translated into machine language for execution. In compiled languages (like C, C++), the entire source code is translated into machine code by a compiler before execution. This machine code is then run directly by the computer's processor, making compiled programs generally faster and more efficient. In contrast, interpreted languages (like Python, JavaScript) are executed line-by-line by an interpreter at runtime, without prior conversion to machine code. This allows for easier debugging and platform independence but can lead to slower execution speeds. Overall, compiled languages emphasize performance, while interpreted languages offer flexibility and ease of use."
      ]
    },
    {
      "cell_type": "markdown",
      "metadata": {
        "id": "oog0j6ZxRmBt"
      },
      "source": [
        "2. What is exception handling in Python\n",
        "Ans 2. Exception handling in Python is a mechanism that allows programmers to manage errors gracefully during the execution of a program. It enables the detection and resolution of runtime issues, such as division by zero, file not found, or invalid input, without abruptly terminating the program. Python uses `try`, `except`, `else`, and `finally` blocks to implement exception handling. The code that may raise an exception is placed inside the `try` block, and the `except` block is used to handle specific exceptions if they occur. The `else` block (optional) runs if no exception occurs, while the `finally` block (also optional) executes regardless of whether an exception was raised or not, typically used for cleanup actions. This structured approach helps in building robust and fault-tolerant applications."
      ]
    },
    {
      "cell_type": "markdown",
      "metadata": {
        "id": "I_7ZofEBR17w"
      },
      "source": [
        "3. What is the purpose of the finally block in exception handling\n",
        "Ans 3. The purpose of the `finally` block in exception handling is to ensure that a specific section of code is always executed, regardless of whether an exception occurs or not. It is typically used to perform clean-up actions such as closing files, releasing resources, or resetting variables—tasks that must be completed to maintain program stability and avoid resource leaks. Even if a `try` block raises an exception or a `return` statement is encountered, the code within the `finally` block will still execute, making it a reliable place to handle final operations that should not be skipped under any circumstances."
      ]
    },
    {
      "cell_type": "markdown",
      "metadata": {
        "id": "KSA0MLt6SH2_"
      },
      "source": [
        "4. What is logging in Python\n",
        "Ans 4. Logging in Python is a built-in module that provides a flexible framework for emitting log messages from Python programs. It is used to track events that happen during program execution, which can help in debugging, monitoring, and auditing. The `logging` module allows developers to record messages at different severity levels—DEBUG, INFO, WARNING, ERROR, and CRITICAL—and configure how these messages are handled, whether they're printed to the console, written to a file, or sent to external systems. Unlike using `print()` statements, logging gives better control over what gets logged and how, making it a powerful tool for both development and production environments."
      ]
    },
    {
      "cell_type": "markdown",
      "metadata": {
        "id": "OIKavmrISqBn"
      },
      "source": [
        "5. What is the significance of the __del__ method in Python\n",
        "Ans 5. The `__del__` method in Python is a special method known as a destructor, which is automatically invoked when an object is about to be destroyed or garbage collected. Its main significance lies in allowing the programmer to define clean-up actions, such as closing files, releasing network connections, or deallocating resources that the object may have acquired during its lifetime. Although Python uses automatic memory management, including garbage collection, the `__del__` method can be useful in managing non-memory resources. However, it should be used cautiously, as relying heavily on `__del__` can lead to complications, especially when dealing with circular references or exceptions during object deletion, which might prevent the destructor from being called."
      ]
    },
    {
      "cell_type": "markdown",
      "metadata": {
        "id": "3sEyzswsTldJ"
      },
      "source": [
        "6. What is the difference between import and from ... import in Python\n",
        "Ans 6. In Python, both `import` and `from ... import` are used to bring external modules or specific parts of modules into your program, but they work slightly differently. The `import` statement loads the entire module, and you access its functions or classes using dot notation (e.g., `math.sqrt(4)`). On the other hand, `from ... import` allows you to import specific attributes (like functions, classes, or variables) directly into your namespace, so you can use them without the module name prefix (e.g., `from math import sqrt` lets you use `sqrt(4)` directly). While `import` keeps the namespace clean and avoids name conflicts, `from ... import` offers convenience and shorter syntax when only a few items are needed."
      ]
    },
    {
      "cell_type": "markdown",
      "metadata": {
        "id": "csEypxxOT0rN"
      },
      "source": [
        "7. How can you handle multiple exceptions in Python\n",
        "Ans 7. In Python, multiple exceptions can be handled using a single `try` block followed by multiple `except` blocks, each designed to catch a specific type of exception. This allows the program to respond appropriately depending on the kind of error that occurs. For example, you can catch a `ZeroDivisionError`, `ValueError`, or `TypeError` separately by writing individual `except` clauses for each. Additionally, multiple exceptions that share the same handling logic can be grouped into a single `except` clause using parentheses. This structured approach to exception handling improves code readability and ensures that errors are managed gracefully without abruptly terminating the program."
      ]
    },
    {
      "cell_type": "markdown",
      "metadata": {
        "id": "hVq8YhZmUE_j"
      },
      "source": [
        "8. What is the purpose of the with statement when handling files in Python\n",
        "Ans 8. The `with` statement in Python is used for resource management and exception handling, particularly when working with files. Its main purpose is to ensure that resources like file streams are properly acquired and released, even if an error occurs during file operations. When you open a file using the `with` statement (e.g., `with open('file.txt', 'r') as f:`), Python automatically takes care of closing the file once the block of code is executed, eliminating the need for a separate `f.close()` call. This makes the code cleaner, more readable, and less error-prone, as it prevents resource leaks and ensures better handling of exceptions."
      ]
    },
    {
      "cell_type": "markdown",
      "metadata": {
        "id": "SRf2NvOvUSOn"
      },
      "source": [
        "9. What is the difference between multithreading and multiprocessing\n",
        "Ans9. Multithreading and multiprocessing are two techniques used to achieve concurrent execution in a program, but they differ in how they utilize system resources. **Multithreading** involves running multiple threads within a single process, where all threads share the same memory space. This makes communication between threads faster, but also increases the risk of data corruption due to shared resources. It's ideal for I/O-bound tasks like file reading or network requests. In contrast, **multiprocessing** uses multiple processes, each with its own memory space, allowing true parallelism and better utilization of multiple CPU cores. This approach is more suitable for CPU-bound tasks but involves more overhead due to inter-process communication."
      ]
    },
    {
      "cell_type": "markdown",
      "metadata": {
        "id": "GlKO7jM7TZs-"
      },
      "source": []
    },
    {
      "cell_type": "markdown",
      "metadata": {
        "id": "yY3F9leWUk0t"
      },
      "source": [
        "10. What are the advantages of using logging in a program\n",
        "Ans 10. Logging in a program offers several key advantages. It provides a systematic way to track the execution of the application, which helps in debugging and troubleshooting by capturing errors, warnings, and other critical events. Logging also allows developers to monitor the performance of the program, detect unexpected behavior, and identify potential issues early. Furthermore, logs can provide valuable insights for maintaining and optimizing the software over time, offering a historical record of system states and user interactions. Additionally, logs are useful for auditing purposes, enabling traceability and compliance with industry regulations. By integrating logging, developers can improve the overall reliability and maintainability of a program, ensuring smoother operation in both development and production environments."
      ]
    },
    {
      "cell_type": "markdown",
      "metadata": {
        "id": "uYNerUK1UxxO"
      },
      "source": [
        "11. What is memory management in Python\n",
        "Ans 11. Memory management in Python refers to the process of efficiently allocating, using, and releasing memory during the execution of a Python program. Python uses an automatic memory management system, which is built around two main components: **reference counting** and **garbage collection**. Reference counting tracks the number of references to an object, and when an object’s reference count drops to zero, meaning it is no longer in use, the memory occupied by that object is automatically deallocated. However, reference counting alone can't handle circular references, so Python also uses a **garbage collector** that periodically scans for and removes objects that are no longer accessible. Additionally, Python's memory manager maintains an internal heap for allocating and managing memory blocks to optimize memory usage and performance."
      ]
    },
    {
      "cell_type": "markdown",
      "metadata": {
        "id": "2yY9bfCtVs7D"
      },
      "source": [
        "12. What are the basic steps involved in exception handling in Python\n",
        "Ans 12. Exception handling in Python involves the use of the `try`, `except`, `else`, and `finally` blocks to manage errors and ensure smooth program execution. The process begins with the `try` block, where code that might raise an exception is written. If an exception occurs, the program jumps to the `except` block, where the error can be caught and handled appropriately (e.g., logging, retrying, or displaying a message). If no exception occurs, the `else` block (optional) is executed. Finally, the `finally` block, which is also optional, runs regardless of whether an exception was raised or not, typically used for cleanup actions like closing files or releasing resources. By handling exceptions, Python programs can avoid crashes and improve robustness in error-prone operations."
      ]
    },
    {
      "cell_type": "markdown",
      "metadata": {
        "id": "ArNmQqbFWM5P"
      },
      "source": [
        "13. Why is memory management important in Python\n",
        "Ans 13. Memory management is crucial in Python because it directly impacts the efficiency, performance, and stability of a program. Python uses an automatic memory management system, primarily based on garbage collection and reference counting. Efficient memory management ensures that resources are allocated and freed appropriately, preventing memory leaks (where memory is not properly released) and fragmentation. Proper memory management also allows Python to handle large data structures and processes efficiently, optimizing runtime and minimizing the likelihood of performance degradation or crashes. Additionally, Python's memory management system helps developers focus on writing clean and concise code without worrying about manual memory allocation, which is common in lower-level languages like C or C++. However, understanding Python's memory management techniques can help optimize code, especially when working with large datasets or memory-intensive applications."
      ]
    },
    {
      "cell_type": "markdown",
      "metadata": {
        "id": "H-97sRxuWZX1"
      },
      "source": [
        "14. What is the role of try and except in exception handling\n",
        "Ans 14. In Python, the `try` and `except` blocks are used for exception handling, allowing the program to manage errors gracefully without crashing. The `try` block contains the code that might raise an exception, and if an error occurs, Python immediately jumps to the `except` block to handle the exception. The `except` block specifies the action to take if a specific error is encountered, ensuring that the program continues running smoothly. This mechanism helps prevent abrupt termination by catching errors, logging them, or providing alternate solutions based on the type of exception, thus improving the reliability and user experience of the program."
      ]
    },
    {
      "cell_type": "markdown",
      "metadata": {
        "id": "t6fCetseW3lB"
      },
      "source": [
        "15.  How does Python's garbage collection system work\n",
        "Ans 15. Python's garbage collection system manages memory automatically by reclaiming unused memory that is no longer referenced by any objects. The primary mechanism used is **reference counting**, where each object has a reference count that tracks how many references point to it. When an object’s reference count drops to zero (i.e., no references are pointing to it), the memory is deallocated. However, reference counting alone can’t handle cyclic references (e.g., two objects referring to each other), which would otherwise lead to memory leaks. To handle this, Python also uses a cyclic garbage collector. This collector runs periodically, identifying and cleaning up cyclic references that reference each other but are no longer accessible from outside the cycle. The garbage collection process works in generations: objects are divided into three generations based on their age. Younger objects are collected more frequently, and older objects are collected less often, optimizing the process."
      ]
    },
    {
      "cell_type": "markdown",
      "metadata": {
        "id": "stP-G-I6XWFb"
      },
      "source": [
        "16. What is the purpose of the else block in exception handling\n",
        "Ans 16. The `else` block in exception handling is used to define code that should execute only if no exceptions were raised in the `try` block. It allows for a clean separation between the code that handles exceptions and the code that runs when everything executes successfully. The `else` block follows the `try` block and any `except` blocks. This structure is useful because it ensures that specific actions, such as logging a successful process or performing operations that only make sense when no errors occur, are only triggered when the code runs without errors, maintaining a clear and logical flow of execution."
      ]
    },
    {
      "cell_type": "markdown",
      "metadata": {
        "id": "Vn4U-kSJXgNR"
      },
      "source": [
        "17.  What are the common logging levels in Python\n",
        "Ans 17. In Python, logging levels are used to specify the severity of events that need to be logged. The common logging levels in Python are:\n",
        "\n",
        " DEBUG: The lowest level, used for detailed diagnostic information, typically useful for debugging purposes. It includes very granular details about the application's state.\n",
        " INFO: Used to log general information about the program's execution, such as user actions or system events, providing insights into normal operations.\n",
        " WARNING: Indicates potential issues or events that are unexpected but not critical to the application's function. It suggests that something might require attention in the future.\n",
        " ERROR: Used to log errors that occur during execution, typically indicating a failure in a function or part of the program, but not causing a complete shutdown.\n",
        " CRITICAL: The highest level, representing severe errors or issues that are likely to cause the program to terminate or behave incorrectly.\n",
        "\n",
        "These logging levels allow developers to control the verbosity of logs, enabling better tracking, debugging, and monitoring of applications."
      ]
    },
    {
      "cell_type": "markdown",
      "metadata": {
        "id": "ULa7xLZ0YB1M"
      },
      "source": [
        "18.What is the difference between os.fork() and multiprocessing in Python\n",
        "Ans 18. In Python, both `os.fork()` and the `multiprocessing` module are used for creating new processes, but they differ in their implementation and use cases. `os.fork()` is a lower-level system call that creates a child process by duplicating the calling process, meaning it directly creates a new process in a Unix-based operating system. The child process inherits most of the parent's state, such as variables and file descriptors, but the two processes run independently after the fork. This method is platform-dependent and not available on Windows. On the other hand, `multiprocessing` is a higher-level Python module designed to create parallel processes in a more platform-independent manner, abstracting away the complexities of process management. It provides better support for process synchronization, communication, and can be used on both Unix and Windows systems. While `os.fork()` gives more control and flexibility, `multiprocessing` is more convenient and robust for handling parallel processing in Python."
      ]
    },
    {
      "cell_type": "markdown",
      "metadata": {
        "id": "tvDqjHh0YMQQ"
      },
      "source": [
        "19. What is the importance of closing a file in Python\n",
        "Ans 19. Closing a file in Python is important because it ensures that any changes made to the file are saved properly and that system resources are released. When a file is opened, Python allocates resources to manage it, such as memory and file handles. If a file is not closed, these resources might not be freed, potentially causing memory leaks or running out of file handles, which can lead to performance issues or the inability to open new files. Closing the file also ensures that the file's content is flushed to disk, meaning that any data written to the file is permanently saved. Using the `with` statement is often recommended, as it automatically closes the file once the block of code is executed, reducing the risk of errors due to unclosed files."
      ]
    },
    {
      "cell_type": "markdown",
      "metadata": {
        "id": "PqtduSP8YZtA"
      },
      "source": [
        "20.  What is the difference between file.read() and file.readline() in Python\n",
        "Ans 20. In Python, `file.read()` and `file.readline()` are both methods used to read from a file, but they behave differently. `file.read()` reads the entire content of the file as a single string, including all lines and characters, until the end of the file is reached. This is useful when you want to load the whole file into memory. On the other hand, `file.readline()` reads one line at a time from the file, returning it as a string, and includes the newline character (`\\n`) at the end of each line. It can be used in a loop to process each line of the file sequentially. The key difference is that `file.read()` loads the entire file at once, whereas `file.readline()` reads the file line-by-line, which can be more memory efficient for large files."
      ]
    },
    {
      "cell_type": "markdown",
      "metadata": {
        "id": "54FcpMEyYmUz"
      },
      "source": [
        "21.  What is the logging module in Python used for\n",
        "Ans 21. The `logging` module in Python is used for tracking events that occur while a program is running. It allows developers to record messages related to the execution of a program, which can be invaluable for debugging, monitoring, and auditing applications. The module provides a flexible framework for generating log messages at different severity levels, such as DEBUG, INFO, WARNING, ERROR, and CRITICAL. It can log messages to various destinations like the console, files, or remote servers, and can be configured to include timestamps, line numbers, and other contextual information to make the logs more insightful. This makes it an essential tool for improving the maintainability and reliability of applications, especially in production environments."
      ]
    },
    {
      "cell_type": "markdown",
      "metadata": {
        "id": "tb1QpbD6Yzji"
      },
      "source": [
        "22.  What is the os module in Python used for in file handling\n",
        "Ans 22. The `os` module in Python is a built-in library that provides a way to interact with the operating system, and it's commonly used in file handling tasks. It allows you to perform operations like creating, deleting, and renaming files and directories. Additionally, the `os` module helps in navigating the file system, checking if a file or directory exists, and manipulating file permissions. For instance, functions like `os.path.join()` help in constructing file paths, while `os.remove()` is used for deleting files, and `os.mkdir()` for creating directories. It also offers tools for working with file descriptors and environment variables, making it a versatile tool for file management in Python programs."
      ]
    },
    {
      "cell_type": "markdown",
      "metadata": {
        "id": "h8NPq1h8Y_fV"
      },
      "source": [
        "23.  What are the challenges associated with memory management in Python\n",
        "Ans 23. Memory management in Python can be challenging due to its automatic memory management system, which includes garbage collection, reference counting, and the management of memory through Python's built-in memory allocator. One of the key challenges is managing memory efficiently in programs with large data sets or long-running processes, as Python can sometimes fail to release unused memory, leading to memory leaks. The Global Interpreter Lock (GIL) also complicates memory management in multi-threaded applications, limiting concurrency and potentially causing memory contention issues. Additionally, Python's dynamic typing can make it difficult to predict memory usage accurately, as the memory required for objects can change at runtime. While Python offers tools for tracking memory usage, optimizing it remains complex, especially when working with large data structures or interfacing with external libraries that manage memory differently."
      ]
    },
    {
      "cell_type": "markdown",
      "metadata": {
        "id": "f2Mp1eF8X18r"
      },
      "source": []
    },
    {
      "cell_type": "markdown",
      "metadata": {
        "id": "_EPJImaNZKtg"
      },
      "source": [
        "24.  How do you raise an exception manually in Python\n",
        "Ans 24. In Python, you can raise an exception manually using the `raise` statement. To raise an exception, you specify the type of exception you want to trigger. For example, you can raise a built-in exception like `ValueError`, `TypeError`, or a custom exception. You can also include an optional error message to provide more details about the exception. This will immediately stop the execution of the program and raise the `ValueError` exception with the provided message. You can also create custom exceptions by subclassing the built-in `Exception` class, allowing for more specific error handling in your programs."
      ]
    },
    {
      "cell_type": "markdown",
      "metadata": {
        "id": "sClo6l5KZasx"
      },
      "source": [
        "25. Why is it important to use multithreading in certain applications?\n",
        "Ans 25. Multithreading is important in certain applications because it allows for concurrent execution of multiple tasks within a single process, which improves overall performance and efficiency. By utilizing multiple threads, an application can perform multiple operations simultaneously, making better use of multi-core processors. This is particularly beneficial in applications that require high performance, such as real-time systems, scientific simulations, video rendering, or web servers, where parallelism can significantly reduce execution time and enhance responsiveness. Additionally, multithreading enables more efficient resource utilization, such as when performing I/O-bound tasks or managing background processes without blocking the main thread. Ultimately, it leads to smoother user experiences and more scalable systems."
      ]
    },
    {
      "cell_type": "markdown",
      "metadata": {
        "id": "TMR5jHCVZmsn"
      },
      "source": [
        "Practical Questions\n"
      ]
    },
    {
      "cell_type": "code",
      "execution_count": null,
      "metadata": {
        "id": "OZ2mEAB0ZqCG"
      },
      "outputs": [],
      "source": [
        "#1. How can you open a file for writing in Python and write a string to it\n",
        "# Open the file for writing (creates the file if it doesn't exist)\n",
        "with open('example.txt', 'w') as file:\n",
        "    # Write a string to the file\n",
        "    file.write(\"Hello, this is a sample string written to the file.\")\n",
        "\n",
        "# The file will be automatically closed when the 'with' block is exited\n"
      ]
    },
    {
      "cell_type": "code",
      "execution_count": null,
      "metadata": {
        "colab": {
          "base_uri": "https://localhost:8080/"
        },
        "id": "lciUiWz9ar4R",
        "outputId": "94f29c13-08b7-417e-d42c-7b9abfedee20"
      },
      "outputs": [
        {
          "name": "stdout",
          "output_type": "stream",
          "text": [
            "Hello, this is a sample string written to the file.\n"
          ]
        }
      ],
      "source": [
        "#2.  Write a Python program to read the contents of a file and print each line\n",
        "# Open the file for reading\n",
        "with open('example.txt', 'r') as file:\n",
        "    # Read each line in the file and print it\n",
        "    for line in file:\n",
        "        print(line.strip())  # Using strip() to remove leading/trailing whitespace or newline characters\n"
      ]
    },
    {
      "cell_type": "code",
      "execution_count": null,
      "metadata": {
        "colab": {
          "base_uri": "https://localhost:8080/"
        },
        "id": "omPyrEAia8N-",
        "outputId": "d87536e6-9505-45f3-8b53-ebc48bcf639f"
      },
      "outputs": [
        {
          "name": "stdout",
          "output_type": "stream",
          "text": [
            "Hello, this is a sample string written to the file.\n"
          ]
        }
      ],
      "source": [
        "#3. How would you handle a case where the file doesn't exist while trying to open it for reading\n",
        "try:\n",
        "    # Attempt to open the file for reading\n",
        "    with open('example.txt', 'r') as file:\n",
        "        # Read each line and print it\n",
        "        for line in file:\n",
        "            print(line.strip())  # Using strip() to remove leading/trailing whitespace or newline characters\n",
        "except FileNotFoundError:\n",
        "    print(\"Error: The file 'example.txt' does not exist.\")\n"
      ]
    },
    {
      "cell_type": "code",
      "execution_count": null,
      "metadata": {
        "id": "giniXLq4b3tE"
      },
      "outputs": [],
      "source": []
    },
    {
      "cell_type": "code",
      "execution_count": null,
      "metadata": {
        "colab": {
          "base_uri": "https://localhost:8080/"
        },
        "id": "476agLdBbSIQ",
        "outputId": "8f2beb8f-e98b-4467-e91d-c8bfc37f2fc8"
      },
      "outputs": [
        {
          "name": "stdout",
          "output_type": "stream",
          "text": [
            "Error: The source file does not exist.\n"
          ]
        }
      ],
      "source": [
        "#4\n",
        "# Open the source file for reading\n",
        "try:\n",
        "    with open('source.txt', 'r') as source_file:\n",
        "        # Open the destination file for writing\n",
        "        with open('destination.txt', 'w') as destination_file:\n",
        "            # Read and write the contents\n",
        "            for line in source_file:\n",
        "                destination_file.write(line)\n",
        "    print(\"File content copied successfully.\")\n",
        "except FileNotFoundError: print\n",
        "    print(\"Error: The source file does not exist.\")\n"
      ]
    },
    {
      "cell_type": "code",
      "execution_count": null,
      "metadata": {
        "colab": {
          "base_uri": "https://localhost:8080/"
        },
        "id": "ble15nI6b0bB",
        "outputId": "63f7549e-7357-4a55-94e7-e8013506c338"
      },
      "outputs": [
        {
          "name": "stdout",
          "output_type": "stream",
          "text": [
            "Error: Cannot divide by zero.\n"
          ]
        }
      ],
      "source": [
        "#5.  How would you catch and handle division by zero error in Python\n",
        "try:\n",
        "    numerator = 10\n",
        "    denominator = 0\n",
        "    result = numerator / denominator\n",
        "    print(\"Result:\", result)\n",
        "except ZeroDivisionError:\n",
        "    print(\"Error: Cannot divide by zero.\")\n"
      ]
    },
    {
      "cell_type": "code",
      "execution_count": null,
      "metadata": {
        "colab": {
          "base_uri": "https://localhost:8080/"
        },
        "id": "oQTQZ4LdDjs1",
        "outputId": "9fee655b-af39-4da4-f390-3d6bf2a0f60b"
      },
      "outputs": [
        {
          "name": "stderr",
          "output_type": "stream",
          "text": [
            "ERROR:root:Attempted to divide by zero: division by zero\n"
          ]
        },
        {
          "name": "stdout",
          "output_type": "stream",
          "text": [
            "An error occurred. Please check the 'error.log' file for details.\n"
          ]
        }
      ],
      "source": [
        "#6.  Write a Python program that logs an error message to a log file when a division by zero exception occurs\n",
        "import logging\n",
        "\n",
        "# Configure the logging system\n",
        "logging.basicConfig(filename='error.log', level=logging.ERROR,\n",
        "                    format='%(asctime)s - %(levelname)s - %(message)s')\n",
        "\n",
        "try:\n",
        "    # Example division operation\n",
        "    numerator = 10\n",
        "    denominator = 0\n",
        "    result = numerator / denominator\n",
        "    print(\"Result:\", result)\n",
        "\n",
        "except ZeroDivisionError as e:\n",
        "    # Log the error message to a file\n",
        "    logging.error(\"Attempted to divide by zero: %s\", e)\n",
        "    print(\"An error occurred. Please check the 'error.log' file for details.\")\n"
      ]
    },
    {
      "cell_type": "code",
      "execution_count": null,
      "metadata": {
        "colab": {
          "base_uri": "https://localhost:8080/"
        },
        "id": "_ihqR9m8zROc",
        "outputId": "f56af123-af67-4b30-a628-5668c7c5060a"
      },
      "outputs": [
        {
          "name": "stderr",
          "output_type": "stream",
          "text": [
            "WARNING:root:This is a WARNING message.\n",
            "ERROR:root:This is an ERROR message.\n",
            "CRITICAL:root:This is a CRITICAL message.\n"
          ]
        }
      ],
      "source": [
        "#7. How do you log information at different levels (INFO, ERROR, WARNING) in Python using the logging module\n",
        "import logging\n",
        "\n",
        "# Configure the logging system\n",
        "logging.basicConfig(\n",
        "    filename='app.log',\n",
        "    level=logging.DEBUG,  # This sets the threshold for logging\n",
        "    format='%(asctime)s - %(levelname)s - %(message)s'\n",
        ")\n",
        "\n",
        "# Log messages at different levels\n",
        "logging.debug(\"This is a DEBUG message.\")\n",
        "logging.info(\"This is an INFO message.\")\n",
        "logging.warning(\"This is a WARNING message.\")\n",
        "logging.error(\"This is an ERROR message.\")\n",
        "logging.critical(\"This is a CRITICAL message.\")\n"
      ]
    },
    {
      "cell_type": "code",
      "execution_count": null,
      "metadata": {
        "colab": {
          "base_uri": "https://localhost:8080/"
        },
        "id": "vhFyRdVcziLC",
        "outputId": "e238f2dc-74e9-45e9-fb13-6ecdd7c4a16e"
      },
      "outputs": [
        {
          "name": "stdout",
          "output_type": "stream",
          "text": [
            "Error: The file was not found.\n"
          ]
        }
      ],
      "source": [
        "#8. Write a program to handle a file opening error using exception handling\n",
        "try:\n",
        "    # Try to open a file that may not exist\n",
        "    with open('non_existent_file.txt', 'r') as file:\n",
        "        content = file.read()\n",
        "        print(content)\n",
        "\n",
        "except FileNotFoundError:\n",
        "    print(\"Error: The file was not found.\")\n",
        "\n",
        "except IOError:\n",
        "    print(\"Error: An I/O error occurred while trying to open the file.\")\n"
      ]
    },
    {
      "cell_type": "code",
      "execution_count": null,
      "metadata": {
        "colab": {
          "base_uri": "https://localhost:8080/"
        },
        "id": "mEj03rNcztz1",
        "outputId": "fc94f1a4-d3e9-49f0-94a6-c094d184adf7"
      },
      "outputs": [
        {
          "name": "stdout",
          "output_type": "stream",
          "text": [
            "Error: The file 'example.txt' does not exist.\n"
          ]
        }
      ],
      "source": [
        "#9. How can you read a file line by line and store its content in a list in Python\n",
        "\n",
        "filename = 'example.txt'\n",
        "\n",
        "try:\n",
        "    lines_list = []\n",
        "\n",
        "    with open(filename, 'r') as file:\n",
        "        for line in file:\n",
        "            lines_list.append(line.strip())\n",
        "\n",
        "    print(\"File content as list:\")\n",
        "    print(lines_list)\n",
        "\n",
        "except FileNotFoundError:\n",
        "    print(f\"Error: The file '{filename}' does not exist.\")\n",
        "except Exception as e:\n",
        "    print(f\"An unexpected error occurred: {e}\")\n"
      ]
    },
    {
      "cell_type": "code",
      "execution_count": null,
      "metadata": {
        "colab": {
          "base_uri": "https://localhost:8080/"
        },
        "id": "aBgThJiJ0hjM",
        "outputId": "9c60fc19-9c3b-4d11-ea8a-cd47296fbd59"
      },
      "outputs": [
        {
          "name": "stdout",
          "output_type": "stream",
          "text": [
            "Data appended successfully.\n"
          ]
        }
      ],
      "source": [
        "#10. How can you append data to an existing file in Python\n",
        "# Open the file in append mode\n",
        "with open('example.txt', 'a') as file:\n",
        "    file.write(\"\\nThis is the new line being appended.\")\n",
        "\n",
        "print(\"Data appended successfully.\")\n"
      ]
    },
    {
      "cell_type": "code",
      "execution_count": null,
      "metadata": {
        "colab": {
          "base_uri": "https://localhost:8080/"
        },
        "id": "24bw5gys1gMy",
        "outputId": "b982d5cf-6a01-4316-bd93-56cc79978d24"
      },
      "outputs": [
        {
          "name": "stdout",
          "output_type": "stream",
          "text": [
            "Error: 'David' is not found in the dictionary.\n"
          ]
        }
      ],
      "source": [
        "#11. Write a Python program that uses a try-except block to handle an error when attempting to access a dictionary key that doesn't exist\n",
        "# Define a sample dictionary\n",
        "student_scores = {\n",
        "    \"Alice\": 85,\n",
        "    \"Bob\": 92,\n",
        "    \"Charlie\": 78\n",
        "}\n",
        "\n",
        "try:\n",
        "    # Try to access a key that might not exist\n",
        "    name = \"David\"\n",
        "    score = student_scores[name]\n",
        "    print(f\"{name}'s score is {score}\")\n",
        "\n",
        "except KeyError:\n",
        "    print(f\"Error: '{name}' is not found in the dictionary.\")\n"
      ]
    },
    {
      "cell_type": "code",
      "execution_count": null,
      "metadata": {
        "colab": {
          "base_uri": "https://localhost:8080/"
        },
        "id": "90tfLWdQ2Rwf",
        "outputId": "0a4f1d2f-a779-4577-d90e-67a814405ad9"
      },
      "outputs": [
        {
          "name": "stdout",
          "output_type": "stream",
          "text": [
            "Enter the numerator: 2\n",
            "Enter the denominator: 7\n",
            "Result: 0.2857142857142857\n",
            "Enter a dictionary key to access: a:1\n",
            "Error: The key you entered does not exist in the dictionary.\n"
          ]
        }
      ],
      "source": [
        "#12. Write a program that demonstrates using multiple except blocks to handle different types of exceptions\n",
        "try:\n",
        "    # Example of multiple operations that may cause different exceptions\n",
        "    num1 = int(input(\"Enter the numerator: \"))\n",
        "    num2 = int(input(\"Enter the denominator: \"))\n",
        "    result = num1 / num2\n",
        "    print(\"Result:\", result)\n",
        "\n",
        "    # Try accessing a dictionary key\n",
        "    data = {'a': 1, 'b': 2}\n",
        "    key = input(\"Enter a dictionary key to access: \")\n",
        "    value = data[key]\n",
        "    print(f\"Value for '{key}':\", value)\n",
        "\n",
        "except ZeroDivisionError:\n",
        "    print(\"Error: Cannot divide by zero.\")\n",
        "\n",
        "except ValueError:\n",
        "    print(\"Error: Invalid input. Please enter numeric values only.\")\n",
        "\n",
        "except KeyError:\n",
        "    print(\"Error: The key you entered does not exist in the dictionary.\")\n",
        "\n",
        "except Exception as e:\n",
        "    print(\"An unexpected error occurred:\", e)\n"
      ]
    },
    {
      "cell_type": "code",
      "execution_count": null,
      "metadata": {
        "colab": {
          "base_uri": "https://localhost:8080/"
        },
        "id": "5kExw-im2ndB",
        "outputId": "f05ab82b-6ac3-47bc-d170-c96ae2554d62"
      },
      "outputs": [
        {
          "name": "stdout",
          "output_type": "stream",
          "text": [
            "\n",
            "This is the new line being appended.\n"
          ]
        }
      ],
      "source": [
        "#13. How would you check if a file exists before attempting to read it in Python\n",
        "import os\n",
        "\n",
        "filename = 'example.txt'\n",
        "\n",
        "if os.path.exists(filename):\n",
        "    with open(filename, 'r') as file:\n",
        "        content = file.read()\n",
        "        print(content)\n",
        "else:\n",
        "    print(f\"Error: The file '{filename}' does not exist.\")\n"
      ]
    },
    {
      "cell_type": "code",
      "execution_count": null,
      "metadata": {
        "colab": {
          "base_uri": "https://localhost:8080/"
        },
        "id": "GcUOAuEL3As7",
        "outputId": "92282cac-965f-49c9-fde4-b29f21a65360"
      },
      "outputs": [
        {
          "name": "stderr",
          "output_type": "stream",
          "text": [
            "ERROR:root:Error occurred: division by zero\n"
          ]
        }
      ],
      "source": [
        "#14.  Write a program that uses the logging module to log both informational and error messages\n",
        "import logging\n",
        "\n",
        "# Configure the logging system\n",
        "logging.basicConfig(\n",
        "    filename='app.log',  # Log messages will be saved to 'app.log'\n",
        "    level=logging.DEBUG,  # Log messages of level DEBUG and above will be captured\n",
        "    format='%(asctime)s - %(levelname)s - %(message)s'  # Log format with timestamp\n",
        ")\n",
        "\n",
        "# Log informational messages\n",
        "logging.info(\"This is an informational message.\")\n",
        "logging.info(\"The program started successfully.\")\n",
        "\n",
        "# Simulating some code execution\n",
        "try:\n",
        "    # Simulate an error (division by zero)\n",
        "    numerator = 10\n",
        "    denominator = 0\n",
        "    result = numerator / denominator\n",
        "except ZeroDivisionError as e:\n",
        "    logging.error(f\"Error occurred: {e}\")\n",
        "\n",
        "# Log another informational message\n",
        "logging.info(\"Program execution finished.\")\n"
      ]
    },
    {
      "cell_type": "code",
      "execution_count": null,
      "metadata": {
        "colab": {
          "base_uri": "https://localhost:8080/"
        },
        "id": "zB_fGGeQ3OEg",
        "outputId": "f373cca1-3c33-4cd2-9d97-96216d1c62cd"
      },
      "outputs": [
        {
          "name": "stdout",
          "output_type": "stream",
          "text": [
            "File content:\n",
            "This is the new line being appended.\n"
          ]
        }
      ],
      "source": [
        "#15. Write a Python program that prints the content of a file and handles the case when the file is empty\n",
        "# Specify the file path\n",
        "filename = 'example.txt'\n",
        "\n",
        "try:\n",
        "    with open(filename, 'r') as file:\n",
        "        content = file.read().strip()  # Read and remove any leading/trailing whitespace\n",
        "\n",
        "        if content:  # Check if the content is not empty\n",
        "            print(\"File content:\")\n",
        "            print(content)\n",
        "        else:\n",
        "            print(f\"The file '{filename}' is empty.\")\n",
        "\n",
        "except FileNotFoundError:\n",
        "    print(f\"Error: The file '{filename}' does not exist.\")\n",
        "except IOError as e:\n",
        "    print(f\"Error: An I/O error occurred. {e}\")\n"
      ]
    },
    {
      "cell_type": "code",
      "execution_count": null,
      "metadata": {
        "id": "DebN5T6x3cBK",
        "collapsed": true
      },
      "outputs": [],
      "source": [
        "#16. Demonstrate how to use memory profiling to check the memory usage of a small program\n",
        "# memory_profile_example.py\n",
        "\n",
        "pip install memory-profiler\n",
        "# save this as memory_example.py\n",
        "\n",
        "from memory_profiler import profile\n",
        "\n",
        "@profile\n",
        "def create_large_list():\n",
        "    numbers = [i * 2 for i in range(1000000)]\n",
        "    return numbers\n",
        "\n",
        "if __name__ == '__main__':\n",
        "    create_large_list()\n",
        "\n",
        "\n",
        "python -m memory_profiler memory_example.py\n",
        "\n",
        "\n",
        "#output example:\n",
        "Filename: memory_example.py\n",
        "\n",
        "Line #    Mem usage    Increment  Occurrences   Line Contents\n",
        "=============================================================\n",
        "    4     16.5 MiB     16.5 MiB           1   @profile\n",
        "    5                                         def create_large_list():\n",
        "    6     54.3 MiB     37.8 MiB           1       numbers = [i * 2 for i in range(1000000)]\n",
        "    7     54.3 MiB      0.0 MiB           1       return numbers\n"
      ]
    },
    {
      "cell_type": "code",
      "execution_count": null,
      "metadata": {
        "colab": {
          "base_uri": "https://localhost:8080/"
        },
        "id": "Kk70w3_P3tgt",
        "outputId": "6fce7336-d3fd-48c5-887a-de8913d92b53"
      },
      "outputs": [
        {
          "name": "stdout",
          "output_type": "stream",
          "text": [
            "Numbers have been written to 'numbers.txt'.\n"
          ]
        }
      ],
      "source": [
        "#17. Write a Python program to create and write a list of numbers to a file, one number per line\n",
        "# Define the list of numbers\n",
        "numbers = [1, 2, 3, 4, 5, 6, 7, 8, 9, 10]\n",
        "\n",
        "# Specify the file to write to\n",
        "filename = 'numbers.txt'\n",
        "\n",
        "# Open the file in write mode\n",
        "with open(filename, 'w') as file:\n",
        "    for number in numbers:\n",
        "        file.write(f\"{number}\\n\")  # Write each number followed by a newline\n",
        "\n",
        "print(f\"Numbers have been written to '{filename}'.\")\n",
        "\n"
      ]
    },
    {
      "cell_type": "code",
      "execution_count": 1,
      "metadata": {
        "id": "GcoKf4C04JRQ"
      },
      "outputs": [],
      "source": [
        "#18. How would you implement a basic logging setup that logs to a file with rotation after 1MB\n",
        "import logging\n",
        "from logging.handlers import RotatingFileHandler\n",
        "\n",
        "# Set up a rotating file handler\n",
        "log_file = \"rotating_app.log\"\n",
        "handler = RotatingFileHandler(log_file, maxBytes=1*1024*1024, backupCount=3)\n",
        "# This will rotate the log file after it reaches 1MB and keep up to 3 backup files\n",
        "\n",
        "# Configure the logger\n",
        "logging.basicConfig(\n",
        "    level=logging.INFO,\n",
        "    handlers=[handler],\n",
        "    format=\"%(asctime)s - %(levelname)s - %(message)s\")\n",
        "\n",
        "# Simulate logging messages\n",
        "for i in range(10000):\n",
        "    logging.info(f\"This is log message number {i}\")"
      ]
    },
    {
      "cell_type": "code",
      "execution_count": null,
      "metadata": {
        "colab": {
          "background_save": true
        },
        "id": "P4bsK5sD4WFN",
        "outputId": "63db127a-2693-4043-9e8b-1f842b443a64"
      },
      "outputs": [
        {
          "name": "stdout",
          "output_type": "stream",
          "text": [
            "IndexError: list index out of range - The index you're trying to access does not exist in the list.\n"
          ]
        }
      ],
      "source": [
        "#19. Write a program that handles both IndexError and KeyError using a try-except block\n",
        "# Define a list and a dictionary\n",
        "my_list = [10, 20, 30, 40, 50]\n",
        "my_dict = {'name': 'Alice', 'age': 25, 'city': 'New York'}\n",
        "\n",
        "try:\n",
        "    # Trying to access an index that might not exist in the list\n",
        "    index = 5\n",
        "    print(f\"List item at index {index}: {my_list[index]}\")\n",
        "\n",
        "    # Trying to access a key that might not exist in the dictionary\n",
        "    key = 'address'\n",
        "    print(f\"Dictionary value for key '{key}': {my_dict[key]}\")\n",
        "\n",
        "except IndexError as ie:\n",
        "    print(f\"IndexError: {ie} - The index you're trying to access does not exist in the list.\")\n",
        "\n",
        "except KeyError as ke:\n",
        "    print(f\"KeyError: {ke} - The key you're trying to access does not exist in the dictionary.\")\n",
        "\n",
        "except Exception as e:\n",
        "    print(f\"An unexpected error occurred: {e}\")\n"
      ]
    },
    {
      "cell_type": "code",
      "execution_count": null,
      "metadata": {
        "colab": {
          "background_save": true
        },
        "id": "N0wOaBZv4s1M",
        "outputId": "86522a5a-8806-4745-a4c8-bb1769a4718c"
      },
      "outputs": [
        {
          "name": "stdout",
          "output_type": "stream",
          "text": [
            "\n",
            "This is the new line being appended.\n"
          ]
        }
      ],
      "source": [
        "#20. How would you open a file and read its contents using a context manager in Python\n",
        "# Specify the file path\n",
        "filename = 'example.txt'\n",
        "\n",
        "# Use a context manager to open the file and read its contents\n",
        "with open(filename, 'r') as file:\n",
        "    content = file.read()  # Read the entire file content\n",
        "    print(content)  # Print the content\n",
        "\n",
        "# File is automatically closed after the 'with' block is finished\n"
      ]
    },
    {
      "cell_type": "code",
      "execution_count": null,
      "metadata": {
        "id": "hjxYJ5JZ42vn"
      },
      "outputs": [],
      "source": [
        "#21.  Write a Python program that reads a file and prints the number of occurrences of a specific word\n",
        "# Function to count the occurrences of a specific word in a file\n",
        "def count_word_occurrences(filename, target_word):\n",
        "    try:\n",
        "        with open(filename, 'r') as file:\n",
        "            content = file.read()  # Read the entire file content\n",
        "            word_count = content.lower().split().count(target_word.lower())  # Count occurrences (case insensitive)\n",
        "            return word_count\n",
        "\n",
        "    except FileNotFoundError:\n",
        "        print(f\"Error: The file '{filename}' does not exist.\")\n",
        "        return 0\n",
        "    except IOError as e:\n",
        "        print(f\"Error: An I/O error occurred: {e}\")\n",
        "        return 0\n",
        "\n",
        "# Specify the file path and the word to search for\n",
        "filename = 'example.txt'  # Replace with your file path\n",
        "target_word = 'python'  # Replace with the word you want to search for\n",
        "\n",
        "# Get the word count\n",
        "word_count = count_word_occurrences(filename, target_word)\n",
        "\n",
        "if word_count > 0:\n",
        "    print(f\"The word '{target_word}' occurs {word_count} times in the file '{filename}'.\")\n",
        "else:\n",
        "    print(f\"The word '{target_word}' was not found in the file.\")\n"
      ]
    },
    {
      "cell_type": "code",
      "execution_count": null,
      "metadata": {
        "id": "kHHCUwff5KJI"
      },
      "outputs": [],
      "source": [
        "#22.  How can you check if a file is empty before attempting to read its contents\n",
        "import os\n",
        "\n",
        "# Function to check if a file is empty\n",
        "def is_file_empty(filename):\n",
        "    return os.path.getsize(filename) == 0\n",
        "\n",
        "# Specify the file path\n",
        "filename = 'example.txt'  # Replace with your file path\n",
        "\n",
        "# Check if the file is empty\n",
        "if is_file_empty(filename):\n",
        "    print(f\"The file '{filename}' is empty.\")\n",
        "else:\n",
        "    print(f\"The file '{filename}' is not empty. Proceeding to read the contents.\")\n",
        "\n",
        "    # Read the file content\n",
        "    with open(filename, 'r') as file:\n",
        "        content = file.read()\n",
        "        print(\"File content:\")\n",
        "        print(content)\n"
      ]
    },
    {
      "cell_type": "code",
      "source": [
        "#23   Write a Python program that writes to a log file when an error occurs during file handling.\n",
        "import logging\n",
        "\n",
        "# Configure the logging\n",
        "logging.basicConfig(\n",
        "    filename='file_errors.log',\n",
        "    level=logging.ERROR,\n",
        "    format='%(asctime)s - %(levelname)s - %(message)s'\n",
        ")\n",
        "\n",
        "def read_file(filename):\n",
        "    try:\n",
        "        with open(filename, 'r') as file:\n",
        "            content = file.read()\n",
        "            print(content)\n",
        "    except FileNotFoundError:\n",
        "        logging.error(f\"The file '{filename}' was not found.\")\n",
        "        print(f\"Error: The file '{filename}' was not found.\")\n",
        "    except IOError as e:\n",
        "        logging.error(f\"I/O error occurred while handling '{filename}': {e}\")\n",
        "        print(f\"Error: An I/O error occurred: {e}\")\n",
        "    except Exception as e:\n",
        "        logging.error(f\"Unexpected error: {e}\")\n",
        "        print(f\"An unexpected error occurred: {e}\")\n",
        "\n",
        "# Example usage\n",
        "read_file('non_existing_file.txt')  # Replace with an actual filename to test\n"
      ],
      "metadata": {
        "colab": {
          "base_uri": "https://localhost:8080/",
          "height": 0
        },
        "id": "sz40k52eACNz",
        "outputId": "401ceaf8-70c4-4036-b582-786e03a8e880"
      },
      "execution_count": 2,
      "outputs": [
        {
          "output_type": "stream",
          "name": "stderr",
          "text": [
            "ERROR:root:The file 'non_existing_file.txt' was not found.\n"
          ]
        },
        {
          "output_type": "stream",
          "name": "stdout",
          "text": [
            "Error: The file 'non_existing_file.txt' was not found.\n"
          ]
        }
      ]
    },
    {
      "cell_type": "code",
      "source": [],
      "metadata": {
        "id": "3mHkLe0pAZMn"
      },
      "execution_count": null,
      "outputs": []
    }
  ],
  "metadata": {
    "colab": {
      "provenance": []
    },
    "kernelspec": {
      "display_name": "Python 3",
      "name": "python3"
    },
    "language_info": {
      "name": "python"
    }
  },
  "nbformat": 4,
  "nbformat_minor": 0
}